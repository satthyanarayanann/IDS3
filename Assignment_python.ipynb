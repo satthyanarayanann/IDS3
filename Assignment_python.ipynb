{
 "cells": [
  {
   "cell_type": "code",
   "execution_count": 1,
   "metadata": {},
   "outputs": [
    {
     "name": "stdout",
     "output_type": "stream",
     "text": [
      "After Index 4 Removed: [34, 54, 67, 89, 43, 94]\n",
      "After Index 2 Inserted: [34, 54, 11, 67, 89, 43, 94]\n",
      "After Adding value Last: [34, 54, 11, 67, 89, 43, 94, 11]\n"
     ]
    }
   ],
   "source": [
    "Original_list = [34, 54, 67, 89, 11, 43, 94]\n",
    "Index4removal = Original_list.remove(Original_list[4]);\n",
    "print ('After Index 4 Removed:', Original_list)\n",
    "Insertindex2value = Original_list.insert(2, 11)\n",
    "print ('After Index 2 Inserted:', Original_list)\n",
    "Insertvaluelast = Original_list.append(11)\n",
    "print ('After Adding value Last:', Original_list)"
   ]
  },
  {
   "cell_type": "code",
   "execution_count": 33,
   "metadata": {},
   "outputs": [
    {
     "name": "stdout",
     "output_type": "stream",
     "text": [
      "Combined_List: [2, 3, 4, 5, 6, 7, 8, 4, 9, 16, 25, 36, 49, 64]\n",
      "The unique combine list: {64, 2, 3, 4, 5, 6, 7, 8, 9, 36, 16, 49, 25}\n"
     ]
    }
   ],
   "source": [
    "First_List = [2, 3, 4, 5, 6, 7, 8]\n",
    "Second_List = [4, 9, 16, 25, 36, 49, 64]\n",
    "A = First_List + Second_List\n",
    "print ('Combined_List:', A)\n",
    "Concatinationuniquelist = set (A)\n",
    "print ('The unique combine list:', Concatinationuniquelist)"
   ]
  },
  {
   "cell_type": "code",
   "execution_count": 40,
   "metadata": {},
   "outputs": [
    {
     "name": "stdout",
     "output_type": "stream",
     "text": [
      "Unique list is: {44, 52, 53, 54, 87}\n",
      "Tuple list is: (44, 52, 53, 54, 87)\n",
      "Min Number is: 44\n",
      "Max Number is: 87\n"
     ]
    }
   ],
   "source": [
    "Original_list1 = [87, 52, 44, 53, 54, 87, 52, 53]\n",
    "Unique_list = set (Original_list1)\n",
    "print ('Unique list is:', Unique_list)\n",
    "tuple_list = tuple (Unique_list)\n",
    "print ('Tuple list is:', tuple_list)\n",
    "A = min (tuple_list)\n",
    "print ('Min Number is:', A)\n",
    "B = max (tuple_list)\n",
    "print ('Max Number is:', B)"
   ]
  },
  {
   "cell_type": "code",
   "execution_count": 96,
   "metadata": {},
   "outputs": [
    {
     "name": "stdout",
     "output_type": "stream",
     "text": [
      "Welcome To Python\n",
      "W e l c o m e   T o   P y t h o n\n",
      "Counts of words is: 17\n"
     ]
    }
   ],
   "source": [
    "a = \"Welcome To Python\"\n",
    "print (a)\n",
    "b = print (*a)\n",
    "c = len ([*a])\n",
    "print ('Counts of words is:', c)"
   ]
  },
  {
   "cell_type": "code",
   "execution_count": 81,
   "metadata": {},
   "outputs": [
    {
     "name": "stdout",
     "output_type": "stream",
     "text": [
      "The key Element Accessed by Index: physics\n"
     ]
    }
   ],
   "source": [
    "Sample_dictionary = {'physics': 80, 'math': 90, 'chemistry': 86}\n",
    "print ('The key Element Accessed by Index:', list (Sample_dictionary)[0])"
   ]
  }
 ],
 "metadata": {
  "kernelspec": {
   "display_name": "Python 3",
   "language": "python",
   "name": "python3"
  },
  "language_info": {
   "codemirror_mode": {
    "name": "ipython",
    "version": 3
   },
   "file_extension": ".py",
   "mimetype": "text/x-python",
   "name": "python",
   "nbconvert_exporter": "python",
   "pygments_lexer": "ipython3",
   "version": "3.7.6"
  }
 },
 "nbformat": 4,
 "nbformat_minor": 4
}
